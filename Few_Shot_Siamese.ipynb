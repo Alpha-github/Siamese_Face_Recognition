{
 "cells": [
  {
   "cell_type": "code",
   "execution_count": 2,
   "metadata": {},
   "outputs": [],
   "source": [
    "import torch\n",
    "import torch.nn as nn\n",
    "import sklearn\n",
    "import numpy as np\n",
    "import seaborn as sns\n",
    "from matplotlib import pyplot as plt\n",
    "import tensorflow as tf\n",
    "from tensorflow.keras.datasets import mnist"
   ]
  },
  {
   "cell_type": "code",
   "execution_count": 6,
   "metadata": {},
   "outputs": [],
   "source": [
    "IMG_SHAPE = (28,28)\n",
    "BATCH_SIZE = 64\n",
    "EPOCHS = 100"
   ]
  },
  {
   "cell_type": "code",
   "execution_count": 7,
   "metadata": {},
   "outputs": [],
   "source": [
    "def make_pairs(images, labels):\n",
    "\t# initialize two empty lists to hold the (image, image) pairs and\n",
    "\t# labels to indicate if a pair is positive or negative\n",
    "\tpairImages = []\n",
    "\tpairLabels = []\n",
    "\t# calculate the total number of classes present in the dataset\n",
    "\t# and then build a list of indexes for each class label that\n",
    "\t# provides the indexes for all examples with a given label\n",
    "\tnumClasses = len(np.unique(labels))\n",
    "\tidx = [np.where(labels == i)[0] for i in range(0, numClasses)]\n",
    "\t# loop over all images\n",
    "\tfor idxA in range(len(images)):\n",
    "\t\t# grab the current image and label belonging to the current\n",
    "\t\t# iteration\n",
    "\t\tcurrentImage = images[idxA]\n",
    "\t\tlabel = labels[idxA]\n",
    "\t\t# randomly pick an image that belongs to the *same* class\n",
    "\t\t# label\n",
    "\t\tidxB = np.random.choice(idx[label])\n",
    "\t\tposImage = images[idxB]\n",
    "\t\t# prepare a positive pair and update the images and labels\n",
    "\t\t# lists, respectively\n",
    "\t\tpairImages.append([currentImage, posImage])\n",
    "\t\tpairLabels.append([1])\n",
    "\t\t# grab the indices for each of the class labels *not* equal to\n",
    "\t\t# the current label and randomly pick an image corresponding\n",
    "\t\t# to a label *not* equal to the current label\n",
    "\t\tnegIdx = np.where(labels != label)[0]\n",
    "\t\tnegImage = images[np.random.choice(negIdx)]\n",
    "\t\t# prepare a negative pair of images and update our lists\n",
    "\t\tpairImages.append([currentImage, negImage])\n",
    "\t\tpairLabels.append([0])\n",
    "\t# return a 2-tuple of our image pairs and labels\n",
    "\treturn (np.array(pairImages), np.array(pairLabels))"
   ]
  },
  {
   "cell_type": "code",
   "execution_count": 8,
   "metadata": {},
   "outputs": [],
   "source": [
    "def plot_training(H, plotPath):\n",
    "\t# construct a plot that plots and saves the training history\n",
    "\tplt.style.use(\"ggplot\")\n",
    "\tplt.figure()\n",
    "\tplt.plot(H.history[\"loss\"], label=\"train_loss\")\n",
    "\tplt.plot(H.history[\"val_loss\"], label=\"val_loss\")\n",
    "\tplt.plot(H.history[\"accuracy\"], label=\"train_acc\")\n",
    "\tplt.plot(H.history[\"val_accuracy\"], label=\"val_acc\")\n",
    "\tplt.title(\"Training Loss and Accuracy\")\n",
    "\tplt.xlabel(\"Epoch #\")\n",
    "\tplt.ylabel(\"Loss/Accuracy\")\n",
    "\tplt.legend(loc=\"lower left\")\n",
    "\tplt.savefig(plotPath)"
   ]
  },
  {
   "cell_type": "code",
   "execution_count": 9,
   "metadata": {},
   "outputs": [],
   "source": [
    "def euclidean_distance(vectors):\n",
    "\t# unpack the vectors into separate lists\n",
    "\t(featsA, featsB) = vectors\n",
    "\t# compute the sum of squared distances between the vectors\n",
    "\tsumSquared = K.sum(K.square(featsA - featsB), axis=1,\n",
    "\t\tkeepdims=True)\n",
    "\t# return the euclidean distance between the vectors\n",
    "\treturn K.sqrt(K.maximum(sumSquared, K.epsilon()))"
   ]
  },
  {
   "cell_type": "code",
   "execution_count": 10,
   "metadata": {},
   "outputs": [
    {
     "name": "stdout",
     "output_type": "stream",
     "text": [
      "[INFO] preparing positive and negative pairs...\n"
     ]
    }
   ],
   "source": [
    "(trainX, trainY), (testX, testY) = mnist.load_data()\n",
    "trainX = trainX / 255.0\n",
    "testX = testX / 255.0\n",
    "# add a channel dimension to the images\n",
    "trainX = np.expand_dims(trainX, axis=-1)\n",
    "testX = np.expand_dims(testX, axis=-1)\n",
    "# prepare the positive and negative pairs\n",
    "print(\"[INFO] preparing positive and negative pairs...\")\n",
    "(pairTrain, labelTrain) = make_pairs(trainX, trainY)\n",
    "(pairTest, labelTest) = make_pairs(testX, testY)"
   ]
  },
  {
   "cell_type": "code",
   "execution_count": null,
   "metadata": {},
   "outputs": [],
   "source": [
    "Base_model = tf.keras.Sequential([\n",
    "    tf.keras.layers.Conv2D(64, (10,10), activation=\"relu\"),\n",
    "    tf.keras.layers.MaxPooling2D(64,(2,2), activation=\"relu\"),\n",
    "\n",
    "    tf.keras.layers.Conv2D(128, (7,7), activation=\"relu\"),\n",
    "    tf.keras.layers.MaxPooling2D(64,(2,2), activation=\"relu\"),\n",
    "\n",
    "    tf.keras.layers.Conv2D(128, (4,4), activation=\"relu\"),\n",
    "    tf.keras.layers.MaxPooling2D(64,(2,2), activation=\"relu\"),\n",
    "\n",
    "    tf.keras.layers.Conv2D(256, (4,4), activation=\"relu\"),\n",
    "    tf.keras.layers.GlobalAveragePooling2D()\n",
    "    \n",
    "    tf.keras.layers.Dense(4096, activation=\"sigmoid\")\n",
    "\n",
    "])"
   ]
  },
  {
   "cell_type": "code",
   "execution_count": null,
   "metadata": {},
   "outputs": [],
   "source": [
    "print(\"[INFO] building siamese network...\")\n",
    "imgA = tf.keras.layers.Input(shape=config.IMG_SHAPE)\n",
    "imgB = tf.keras.layers.Input(shape=config.IMG_SHAPE)\n",
    "featureExtractor = build_siamese_model(config.IMG_SHAPE)\n",
    "featsA = featureExtractor(imgA)\n",
    "featsB = featureExtractor(imgB)"
   ]
  }
 ],
 "metadata": {
  "kernelspec": {
   "display_name": "Python 3",
   "language": "python",
   "name": "python3"
  },
  "language_info": {
   "codemirror_mode": {
    "name": "ipython",
    "version": 3
   },
   "file_extension": ".py",
   "mimetype": "text/x-python",
   "name": "python",
   "nbconvert_exporter": "python",
   "pygments_lexer": "ipython3",
   "version": "3.10.7"
  },
  "orig_nbformat": 4
 },
 "nbformat": 4,
 "nbformat_minor": 2
}
